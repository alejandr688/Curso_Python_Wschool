{
 "cells": [
  {
   "cell_type": "markdown",
   "id": "6ec622e3",
   "metadata": {},
   "source": [
    "# ***Tiposs númericos en Python***\n",
    "Python cuenta con 3 tipos númericos básicos\n",
    "1. int(enteros): números positivos o negativos sin decimales, de longitud ilimitada\n",
    "x=1\n",
    "2. float(punto flotante): números con parte decimal o notación científica\n",
    "x=1.2\n",
    "y=2E12\n",
    "z=2e15\n",
    "3. complex(números complejos): con parte real e imaginaria. La imaginaria se marca como j\n",
    "x=2+3j\n"
   ]
  },
  {
   "cell_type": "code",
   "execution_count": null,
   "id": "1eaec596",
   "metadata": {},
   "outputs": [
    {
     "name": "stdout",
     "output_type": "stream",
     "text": [
      "2\n",
      "2.0\n",
      "(2+0j)\n"
     ]
    }
   ],
   "source": [
    "#Casting\n",
    "x=int(2.2)\n",
    "print(x)\n",
    "y=float(2)\n",
    "print(y)\n",
    "z=complex(y)\n",
    "print(z)\n",
    "#No se puede convertir un numero complejo en otro\n",
    "#Puedes hacer operaciones con la parte real o imaginaria del numero complejo con .real o .imag  "
   ]
  },
  {
   "cell_type": "markdown",
   "id": "91f8924e",
   "metadata": {},
   "source": [
    "# ***Números aleatorios***\n",
    "Python tiene la libreria llamada random para generar números aleatorios\n"
   ]
  },
  {
   "cell_type": "code",
   "execution_count": null,
   "id": "4fcb28f9",
   "metadata": {},
   "outputs": [
    {
     "name": "stdout",
     "output_type": "stream",
     "text": [
      "9\n"
     ]
    }
   ],
   "source": [
    "import random\n",
    "print(random.randrange(1,10)) #Genera un entero entre 1 y 9"
   ]
  },
  {
   "cell_type": "markdown",
   "id": "c3fdaf49",
   "metadata": {},
   "source": []
  }
 ],
 "metadata": {
  "kernelspec": {
   "display_name": "Python 3",
   "language": "python",
   "name": "python3"
  },
  "language_info": {
   "codemirror_mode": {
    "name": "ipython",
    "version": 3
   },
   "file_extension": ".py",
   "mimetype": "text/x-python",
   "name": "python",
   "nbconvert_exporter": "python",
   "pygments_lexer": "ipython3",
   "version": "3.13.1"
  }
 },
 "nbformat": 4,
 "nbformat_minor": 5
}
