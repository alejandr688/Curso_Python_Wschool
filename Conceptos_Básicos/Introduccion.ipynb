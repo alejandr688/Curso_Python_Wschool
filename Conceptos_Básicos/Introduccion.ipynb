{
 "cells": [
  {
   "cell_type": "markdown",
   "id": "f132bdf1",
   "metadata": {},
   "source": [
    "# ***¿Qué es Python?***\n",
    "\n",
    "Python es un popular lenguaje de programación. Fue creado por Guido van Rossum, y lanzado en 1991.\n",
    "\n",
    "Es usado para:\n",
    " - Desarrollo web(del lado del servidor)\n",
    "     - Se refiere al código que se ejecuta en el servidor (una computadora que aloja el sitio web) y no el navegador del usuario\n",
    "     - Python se usa en el servidor para manejar bases de datos, procesar formularios, generar páginas web, etc. \n",
    "     Frameworks como Django y Flask son muy usados para esto.\n",
    " - Desarrollo de Software\n",
    " - Matemáticas\n",
    " - Escripting de sistemas\n",
    "     - Scripting significa escribir pequeños programas scripts que automatizan tareas en una computadora.\n",
    "     Scripting de sistemas se refiere a controlar o automatizar funciones del sistema operativo como:\n",
    "         - Mover archivos de una carpeta a otra automáticamente.\n",
    "         - Hacer respaldos de datos(backrups) cada cierto tiempo.\n",
    "         - Ejecutar programas en horarios especificos.\n",
    "         - Cambiar nombres de muchos archivos a la vez\n",
    "     - Python es muy útil para esto porque tiene librerias como os , shutil, subprocess , etc., que permiten interactuar con el sistema operativo fácilmente\n",
    "\n",
    " - Análisis de datos y aprendizaje automático(machine learning)\n",
    " - Automatización de tareas repetitivas\n",
    "    - Descargar cientos de archivos automáticamente desde una lista de URLs.\n",
    "    - Renombrar archivos o convertir formatos(por ejemplo: de .csv a .xlsx).\n",
    "    - Extraer datos de páginas web (web scraping).\n",
    "    - Enviar correos electrónicos automáticamente.\n",
    "    - Analizar archivos grandes de texto o datos.\n",
    "    - Llenar formularios o simular click con bots.\n",
    "    - Generar reportes semanales a partir de bases de datos.\n",
    " - Desarrollo de videojuegos\n",
    " - Creación de aplicaciones de escritorio\n",
    " - Ciberseguridad  y pruebas de penetración (hacking ético)\n",
    " - Internet de las cosas\n",
    "    - Se refiere a la conexión de dispositivos físicos a internet, para que puedan recopilar y compartir datos entre sí o ser controlados de forma remota.\n",
    "    - Ejemplos:\n",
    "        - Una refrigerador inteligente que te avisa cuando falta leche\n",
    "        - Una pulsea de ejercicio que envía tus pasos a una app de celular\n",
    "        - Luces o termostatos inteligentes que puedes controlar desde tu celular\n",
    "        - Sensores de temperatura en fábricas que alertan si hay fallos.\n",
    "    - Python se usa mucho en IoT porque es fácil de usar  y funciona muy bien con dispositivos como Raspberry Pi\n",
    "    o Arduino con módulos compatibles, que son comunes en proyectos de electrónica y automatización."
   ]
  },
  {
   "cell_type": "markdown",
   "id": "74a94425",
   "metadata": {},
   "source": [
    "# "
   ]
  },
  {
   "cell_type": "markdown",
   "id": "d6e25164",
   "metadata": {},
   "source": [
    "# ***¿Qué puede hacer Python?***\n",
    "\n",
    " - Python se puede usar en un servidor para crear aplicaciones web\n",
    "    - Con frameworks como Django o Flask, puedes construir desde blogs hasta tiendas online o APIs completas.\n",
    "- Python se puede usar con otro software para crear flujos de trabajo automáticos.\n",
    "    - Por ejemplo, puedes hacer que un programa lea datos de Excel, los procese y los suba automáticamente a una base de datos o los envíe por correo.\n",
    "- Python puede conectarse a sistemas de bases de datos como MySQL, PostgreSQL, SQLite, entre otros.\n",
    "    - También puede leer, crear, y modificar archivos de texto, CSV, Excel, JSON, etc.\n",
    "- Python se puede utilizar para manejar grandes volumenes de datos (big data) y realizar matemáticas complejas\n",
    "    - Gracias a librerias como NumPy, Pandas y SciPy, es ideal para análisis datos, estadísticas, algebra lineal y simulaciones científicas.\n",
    "- Python se puede usar para crear prototipos rápidos (probar ideas rápidamente) o para el desarrollo de software listo para producción\n",
    "    - Es decir, puedes hacer pruebas sencillas o construir aplicaciones reales, estables y seguras, listas para ser usadas por muchas personas.\n",
    "- También se puede usar para :\n",
    "    - Desarrollar juegos con herramientas como Pygame\n",
    "    - Controlar dispositivos electrónicos(IoT)\n",
    "    - Aplicaciones de inteligencia artificial y machine learning con TensorFlow, scikit-learn o PyTorch\n",
    "    - Análisis y visualización de datos con Matplotlib, Seaborn, o plotly\n",
    "    - Ciberseguridad y pruebas de hacking ético\n",
    "    - Automátización de tareas repetitivas"
   ]
  },
  {
   "cell_type": "markdown",
   "id": "c052f957",
   "metadata": {},
   "source": [
    "# ***¿Por qué Python?***\n",
    " - Python funciona en diferentes plataformas(Windows, Max, Linux, Raspberry Pi, etc)\n",
    "    - Esto lo hace muy versátil y accesible para trabajar en casi cualquier entorno.\n",
    "- Python tiene una sintaxis muy simple, similar al idioma inglés.\n",
    "    - Es ideal para principiantes porque es fácil de leer y escribir.\n",
    "- Su sintaxis permite escribir programas con menos lineas de código que otros lenguajes.\n",
    "    - Esto significa menos complejidad, menos errores  y más productividad.\n",
    "- Python se ejecuta en un sistema interpretado, lo que significa que el código puede ejecutarse tan pronto como se escribe.\n",
    "    - Esto le permite hacer prototipos rápidamente y probar ideas sin necesidad sin necesidad de compilar primero\n",
    "- Python puede tratarse de forma (multiparadigma):\n",
    "    - Procedimental: instrucciones paso a paso.\n",
    "    - Orientada a objetos: estructuras con clases y objetos.\n",
    "    - Funcional: Usando funciones como elementos de primera clase , sin estados ni efectos secundarios"
   ]
  },
  {
   "cell_type": "markdown",
   "id": "e41b6b96",
   "metadata": {},
   "source": [
    "# ***Sintaxis de Python comparada con otros lenguajes de programación***\n",
    " - Python fue diseñado pensando en la legibilidad del código, y tiene ciertas similitudes con el idioma inglés, además de una clara influencia de la notación matemática. Esto hace que el código sea más limpio y fácil de enteder , incluso para quienes estén empezando.\n",
    "- Python usa saltos de línea para indicar el final de una instrucción, a diferencia de otros lenguajes como C, Java o JavaScript, que usan punto y coma (;) al final de cada línea\n",
    "- Python usa la identación(espacios o tabulaciones) para definir bloques de código, mientras que otros lenguajes usan llaves {} para delimitar el alcance de estructuras como ciclos, funciones o clases."
   ]
  },
  {
   "cell_type": "markdown",
   "id": "acddcd10",
   "metadata": {},
   "source": []
  }
 ],
 "metadata": {
  "language_info": {
   "name": "python"
  }
 },
 "nbformat": 4,
 "nbformat_minor": 5
}
