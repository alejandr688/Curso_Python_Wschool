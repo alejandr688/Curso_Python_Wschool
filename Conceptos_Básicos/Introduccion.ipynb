{
 "cells": [
  {
   "cell_type": "markdown",
   "id": "f132bdf1",
   "metadata": {},
   "source": [
    "# ***¿Qué es Python?***\n",
    "\n",
    "Python es un popular lenguaje de programación. Fue creado por Guido van Rossum, y lanzado en 1991.\n",
    "\n",
    "Es usado para:\n",
    " - Desarrollo web(del lado del servidor)\n",
    "     - Se refiere al código que se ejecuta en el servidor (una computadora que aloja el sitio web) y no el navegador del usuario\n",
    "     - Python se usa en el servidor para manejar bases de datos, procesar formularios, generar páginas web, etc. \n",
    "     Frameworks como Django y Flask son muy usados para esto.\n",
    " - Desarrollo de Software\n",
    " - Matemáticas\n",
    " - Escripting de sistemas\n",
    "     - Scripting significa escribir pequeños programas scripts que automatizan tareas en una computadora.\n",
    "     Scripting de sistemas se refiere a controlar o automatizar funciones del sistema operativo como:\n",
    "         - Mover archivos de una carpeta a otra automáticamente.\n",
    "         - Hacer respaldos de datos(backrups) cada cierto tiempo.\n",
    "         - Ejecutar programas en horarios especificos.\n",
    "         - Cambiar nombres de muchos archivos a la vez\n",
    "     - Python es muy útil para esto porque tiene librerias como os , shutil, subprocess , etc., que permiten interactuar con el sistema operativo fácilmente\n",
    "\n",
    " - Análisis de datos y aprendizaje automático(machine learning)\n",
    " - Automatización de tareas repetitivas\n",
    "    - Descargar cientos de archivos automáticamente desde una lista de URLs.\n",
    "    - Renombrar archivos o convertir formatos(por ejemplo: de .csv a .xlsx).\n",
    "    - Extraer datos de páginas web (web scraping).\n",
    "    - Enviar correos electrónicos automáticamente.\n",
    "    - Analizar archivos grandes de texto o datos.\n",
    "    - Llenar formularios o simular click con bots.\n",
    "    - Generar reportes semanales a partir de bases de datos.\n",
    " - Desarrollo de videojuegos\n",
    " - Creación de aplicaciones de escritorio\n",
    " - Ciberseguridad  y pruebas de penetración (hacking ético)\n",
    " - Internet de las cosas\n",
    "    - Se refiere a la conexión de dispositivos físicos a internet, para que puedan recopilar y compartir datos entre sí o ser controlados de forma remota.\n",
    "    - Ejemplos:\n",
    "        - Una refrigerador inteligente que te avisa cuando falta leche\n",
    "        - Una pulsera de ejercicio que envía tus pasos a una app de celular\n",
    "        - Luces o termostatos inteligentes que puedes controlar desde tu celular\n",
    "        - Sensores de temperatura en fábricas que alertan si hay fallos.\n",
    "    - Python se usa mucho en IoT porque es fácil de usar  y funciona muy bien con dispositivos como Raspberry Pi\n",
    "    o Arduino con módulos compatibles, que son comunes en proyectos de electrónica y automatización."
   ]
  },
  {
   "cell_type": "markdown",
   "id": "74a94425",
   "metadata": {},
   "source": [
    "# "
   ]
  },
  {
   "cell_type": "markdown",
   "id": "d6e25164",
   "metadata": {},
   "source": [
    "# ***¿Qué puede hacer Python?***\n",
    "\n",
    " - Python se puede usar en un servidor para crear aplicaciones web\n",
    "    - Con frameworks como Django o Flask, puedes construir desde blogs hasta tiendas online o APIs completas.\n",
    "- Python se puede usar con otro software para crear flujos de trabajo automáticos.\n",
    "    - Por ejemplo, puedes hacer que un programa lea datos de Excel, los procese y los suba automáticamente a una base de datos o los envíe por correo.\n",
    "- Python puede conectarse a sistemas de bases de datos como MySQL, PostgreSQL, SQLite, entre otros.\n",
    "    - También puede leer, crear, y modificar archivos de texto, CSV, Excel, JSON, etc.\n",
    "- Python se puede utilizar para manejar grandes volumenes de datos (big data) y realizar matemáticas complejas\n",
    "    - Gracias a librerias como NumPy, Pandas y SciPy, es ideal para análisis datos, estadísticas, algebra lineal y simulaciones científicas.\n",
    "- Python se puede usar para crear prototipos rápidos (probar ideas rápidamente) o para el desarrollo de software listo para producción\n",
    "    - Es decir, puedes hacer pruebas sencillas o construir aplicaciones reales, estables y seguras, listas para ser usadas por muchas personas.\n",
    "- También se puede usar para :\n",
    "    - Desarrollar juegos con herramientas como Pygame\n",
    "    - Controlar dispositivos electrónicos(IoT)\n",
    "    - Aplicaciones de inteligencia artificial y machine learning con TensorFlow, scikit-learn o PyTorch\n",
    "    - Análisis y visualización de datos con Matplotlib, Seaborn, o plotly\n",
    "    - Ciberseguridad y pruebas de hacking ético\n",
    "    - Automátización de tareas repetitivas"
   ]
  },
  {
   "cell_type": "markdown",
   "id": "c052f957",
   "metadata": {},
   "source": [
    "# ***¿Por qué Python?***\n",
    " - Python funciona en diferentes plataformas(Windows, Mac, Linux, Raspberry Pi, etc)\n",
    "    - Esto lo hace muy versátil y accesible para trabajar en casi cualquier entorno.\n",
    "- Python tiene una sintaxis muy simple, similar al idioma inglés.\n",
    "    - Es ideal para principiantes porque es fácil de leer y escribir.\n",
    "- Su sintaxis permite escribir programas con menos lineas de código que otros lenguajes.\n",
    "    - Esto significa menos complejidad, menos errores  y más productividad.\n",
    "- Python se ejecuta en un sistema interpretado, lo que significa que el código puede ejecutarse tan pronto como se escribe.\n",
    "    - Esto le permite hacer prototipos rápidamente y probar ideas sin necesidad sin necesidad de compilar primero\n",
    "- Python puede tratarse de forma (multiparadigma):\n",
    "    - Procedimental: instrucciones paso a paso.\n",
    "    - Orientada a objetos: estructuras con clases y objetos.\n",
    "    - Funcional: Usando funciones como elementos de primera clase , sin estados ni efectos secundarios"
   ]
  },
  {
   "cell_type": "markdown",
   "id": "e41b6b96",
   "metadata": {},
   "source": [
    "# ***Sintaxis de Python comparada con otros lenguajes de programación***\n",
    " - Python fue diseñado pensando en la legibilidad del código, y tiene ciertas similitudes con el idioma inglés, además de una clara influencia de la notación matemática. Esto hace que el código sea más limpio y fácil de enteder , incluso para quienes estén empezando.\n",
    "- Python usa saltos de línea para indicar el final de una instrucción, a diferencia de otros lenguajes como C, Java o JavaScript, que usan punto y coma (;) al final de cada línea\n",
    "- Python usa la identación(espacios o tabulaciones) para definir bloques de código, mientras que otros lenguajes usan llaves {} para delimitar el alcance de estructuras como ciclos, funciones o clases."
   ]
  },
  {
   "cell_type": "markdown",
   "id": "acddcd10",
   "metadata": {},
   "source": [
    "# ***Identación de Python***\n",
    " - La indentación se refiere a los espacios al inicio de una línea de código.\n",
    " - Mientras que en otros lenguajes de programación la identación se utiliza únicamente para mejorar la legibilidad del código, en Python es fundamental\n",
    " - Python usa la identación para indicar un bloque de código. Es decir, la estructura del programa depende de la correcta alineación de las líneas. Si la indentación es incorrecta, el interprete de Python generará un error de sintáxis. Por ejemplo los bloques que siguen a declaraciones como if, for, while, def o class requieren que las líneas internas estén indentadas de manera consistente.\n",
    " - La convención más común es usar cuatro espacios por nivel de indentación, aunque los más importante es ser consistente en todo el archivo, también puede servir un solo espacio\n",
    " - Tienes que usar el mismo número de espacios en el mismo bloque de código, de otra manera Python te dará un error."
   ]
  },
  {
   "cell_type": "code",
   "execution_count": 1,
   "id": "07fec3fa",
   "metadata": {},
   "outputs": [
    {
     "name": "stdout",
     "output_type": "stream",
     "text": [
      "4 es mayor a 2\n"
     ]
    }
   ],
   "source": [
    "# Funciona\n",
    "if 4>2:\n",
    "    print(\"4 es mayor a 2\")"
   ]
  },
  {
   "cell_type": "code",
   "execution_count": null,
   "id": "f5744144",
   "metadata": {},
   "outputs": [],
   "source": [
    "# No funciona\n",
    "if 4>2:\n",
    "print(\"4 es mayor a 2\")"
   ]
  },
  {
   "cell_type": "code",
   "execution_count": 4,
   "id": "b7ab182a",
   "metadata": {},
   "outputs": [
    {
     "name": "stdout",
     "output_type": "stream",
     "text": [
      "Cinco es mayor que dos\n",
      "Cinco es mayor a dos\n"
     ]
    }
   ],
   "source": [
    "# Sí funciona\n",
    "if 5 > 2:\n",
    " print(\"Cinco es mayor que dos\") \n",
    "if 5 > 2:\n",
    "        print(\"Cinco es mayor a dos\") "
   ]
  },
  {
   "cell_type": "code",
   "execution_count": null,
   "id": "cb54442b",
   "metadata": {},
   "outputs": [],
   "source": [
    "# No funciona, debes de manejar el mismo número de espacios en todo tu bloque de código\n",
    "if 5 > 2:\n",
    " print(\"Five is greater than two!\")\n",
    "        print(\"Five is greater than two!\")"
   ]
  },
  {
   "cell_type": "markdown",
   "id": "54e03086",
   "metadata": {},
   "source": [
    "# ***Variables de  Python***\n",
    "- En Python las variables son creadas cuando les asignas un valor a ellas\n",
    "- Python no tiene un comando para declarar un variable\n"
   ]
  },
  {
   "cell_type": "code",
   "execution_count": 6,
   "id": "7733afd8",
   "metadata": {},
   "outputs": [],
   "source": [
    "x=5"
   ]
  },
  {
   "cell_type": "markdown",
   "id": "1362a72d",
   "metadata": {},
   "source": [
    "# ***Comentarios***\n",
    " - #Comentarios de una linea\n",
    " - \"\"\" Comentarios multilinea\"\"\"\n",
    " - Los comentarios pueden servir para explicar tu código de python\n",
    " - Pueden ser usados para hacer tu código más entendible, readble.\n",
    " - Pueden prevenir que una parte de código se ejecute cuando haces pruebas de código\n",
    " - Como python ignorarará los literales de cadena que no se asignen a una variable, puedes agregar cadena multilínea (comillas triples) en tu código y colocar tu comentario dentro de ella"
   ]
  },
  {
   "cell_type": "code",
   "execution_count": 8,
   "id": "adb3b020",
   "metadata": {},
   "outputs": [
    {
     "data": {
      "text/plain": [
       "'Esto es un comentario\\nmultilinea'"
      ]
     },
     "execution_count": 8,
     "metadata": {},
     "output_type": "execute_result"
    }
   ],
   "source": [
    "# Esto es un comentario\n",
    "# print(\"Hello World\\n\")\n",
    "'''Esto es un comentario\n",
    "multilinea'''"
   ]
  },
  {
   "cell_type": "code",
   "execution_count": null,
   "id": "f370aaba",
   "metadata": {},
   "outputs": [],
   "source": []
  }
 ],
 "metadata": {
  "kernelspec": {
   "display_name": "Python 3",
   "language": "python",
   "name": "python3"
  },
  "language_info": {
   "codemirror_mode": {
    "name": "ipython",
    "version": 3
   },
   "file_extension": ".py",
   "mimetype": "text/x-python",
   "name": "python",
   "nbconvert_exporter": "python",
   "pygments_lexer": "ipython3",
   "version": "3.13.1"
  }
 },
 "nbformat": 4,
 "nbformat_minor": 5
}
