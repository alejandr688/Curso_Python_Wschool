{
 "cells": [
  {
   "cell_type": "markdown",
   "id": "56b491d6",
   "metadata": {},
   "source": [
    "# ***¿Qué es un tipo de dato?***\n",
    "Un tipo de dato indica qué clase de valor guarda una variable(texto, numero colecciones, etc.), y define las operaciones válidas sobre ese valor. Por ejemplo, sumar cadenas concatena, sumar número realiza una operación aritmética.\n",
    "# ***Tipos incorporados en Python***\n",
    "1. Tipo texto\n",
    "- **str**: representa texto, entre comillas simples o dobles\n",
    "x= \"Hola mundo\"\n",
    "2. Tipos númericos\n",
    "- **int**: enteros sin decimales (pueden ser muy grandes)\n",
    "- **float**: número reales(con punto decimal o notacion científica)\n",
    "- **complex**: números complejos con parte imaginaria (\"j\")\n",
    "3. Tipos de secuencia\n",
    "- **list**: lista ordenada, mutable, admite duplicados, índice 0->n-1\n",
    "- **tuple**: tupla, igual que la lista pero inmutable\n",
    "- **range**: rango de números, útil con bucles for\n",
    "4. Colecciones\n",
    "- **dict**: diccionarios, pares clave:valor, mutable, sin duplicados en claves\n",
    "- **set**: conjunto mutable, sin orden y sin duplicados\n",
    "- **Frozenset**: conjunto inmutable\n",
    "5. Booleano\n",
    "- **bool**: True o False\n",
    "6. Binarios\n",
    "- **bytes**: Secuencia inmutable de bytes\n",
    "- **bytearray**: Secuencia mutable de byes\n",
    "- **memoryview**: Vista sobre un objeto bytes sin copiar datos\n",
    "7. Especial\n",
    "- **NoneType**: tipo único que representa \"ausencia de valor\" (None)\n",
    "\n",
    "\n",
    "\n"
   ]
  },
  {
   "cell_type": "code",
   "execution_count": 1,
   "id": "53682f01",
   "metadata": {},
   "outputs": [
    {
     "name": "stdout",
     "output_type": "stream",
     "text": [
      "<class 'int'>\n"
     ]
    }
   ],
   "source": [
    "# Usa Type para obtener el tipo de dato\n",
    "print(type(5))"
   ]
  },
  {
   "cell_type": "markdown",
   "id": "89644382",
   "metadata": {},
   "source": [
    "# ***Cómo establecer tipos explícitamente(casting)?***"
   ]
  },
  {
   "cell_type": "code",
   "execution_count": 13,
   "id": "c2b635d4",
   "metadata": {},
   "outputs": [
    {
     "data": {
      "text/plain": [
       "True"
      ]
     },
     "execution_count": 13,
     "metadata": {},
     "output_type": "execute_result"
    }
   ],
   "source": [
    "str(123)\n",
    "int(3.8)\n",
    "float(\"2.5\")\n",
    "complex(1,2)\n",
    "list((\"apple\",\"banana\"))\n",
    "tuple([1,2,3])\n",
    "dict(manzana=1,b=2)\n",
    "set([1,2,3])\n",
    "frozenset([1,2,3])\n",
    "bool(0)\n",
    "bool(3)"
   ]
  },
  {
   "cell_type": "markdown",
   "id": "138e9e3a",
   "metadata": {},
   "source": []
  }
 ],
 "metadata": {
  "kernelspec": {
   "display_name": "Python 3",
   "language": "python",
   "name": "python3"
  },
  "language_info": {
   "codemirror_mode": {
    "name": "ipython",
    "version": 3
   },
   "file_extension": ".py",
   "mimetype": "text/x-python",
   "name": "python",
   "nbconvert_exporter": "python",
   "pygments_lexer": "ipython3",
   "version": "3.13.1"
  }
 },
 "nbformat": 4,
 "nbformat_minor": 5
}
