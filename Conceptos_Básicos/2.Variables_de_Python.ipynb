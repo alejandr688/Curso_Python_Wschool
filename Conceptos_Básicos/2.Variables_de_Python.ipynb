{
 "cells": [
  {
   "cell_type": "markdown",
   "id": "61616689",
   "metadata": {},
   "source": [
    "# ***¿Qué es un variable?***\n",
    "En Python, una variable es un contenedor que guarda un valor(número, texto, etc). No se declaran previamente: se crean automáticamente cuando se le asigna una valor"
   ]
  },
  {
   "cell_type": "code",
   "execution_count": 1,
   "id": "c3c665f8",
   "metadata": {},
   "outputs": [],
   "source": [
    "x=5\n",
    "y=\"juan\""
   ]
  },
  {
   "cell_type": "markdown",
   "id": "6201b16a",
   "metadata": {},
   "source": [
    "# ***Tipos y cambio de tipos***\n",
    "Python es dinámicamente tipado, lo que significa que una variable puede cambiar de tipo sin advertencias:"
   ]
  },
  {
   "cell_type": "code",
   "execution_count": 2,
   "id": "84d5dafe",
   "metadata": {},
   "outputs": [],
   "source": [
    "x=4 #Dato de tipo entero\n",
    "x=\"juan\" #Dato de tipo string"
   ]
  },
  {
   "cell_type": "markdown",
   "id": "54fce89b",
   "metadata": {},
   "source": [
    "Si deseas forzar un tipo, puedes usar **casting**"
   ]
  },
  {
   "cell_type": "code",
   "execution_count": 3,
   "id": "2b3fd38c",
   "metadata": {},
   "outputs": [],
   "source": [
    "a=str(3) #\"3\"\n",
    "b=int(3) #3\n",
    "c=float(3) #3.0"
   ]
  },
  {
   "cell_type": "markdown",
   "id": "74140b8e",
   "metadata": {},
   "source": [
    "Para verificar el tipo de dato actual usa type()\n"
   ]
  },
  {
   "cell_type": "code",
   "execution_count": 4,
   "id": "a7b646a9",
   "metadata": {},
   "outputs": [
    {
     "name": "stdout",
     "output_type": "stream",
     "text": [
      "<class 'str'>\n"
     ]
    }
   ],
   "source": [
    "print(type(a))"
   ]
  },
  {
   "cell_type": "markdown",
   "id": "2949ce7b",
   "metadata": {},
   "source": [
    "# ***Nombre de variables***\n",
    "- Debe comenzar con una letra o guion bajo, no con números.\n",
    "- Solo pueden contener letras, números y guión bajo.\n",
    "- Son sensibles a mayúsculas: valor, Valor y VALOR son distintos.\n",
    "- No pueden ser palabras reservadas de Python\n",
    "\n",
    "## ***Estilos comunes***\n",
    "\n",
    "- snake case: mi_variable\n",
    "- camelCase: miVariable\n",
    "- PascalCase: MiVariable"
   ]
  },
  {
   "cell_type": "markdown",
   "id": "6d4a2030",
   "metadata": {},
   "source": [
    "# ***Asignaciones múltiples***\n",
    "Python permite asignar varios valores a varias variables en una sola línea:"
   ]
  },
  {
   "cell_type": "code",
   "execution_count": 6,
   "id": "9a67e31e",
   "metadata": {},
   "outputs": [
    {
     "name": "stdout",
     "output_type": "stream",
     "text": [
      "naranja pera uva\n"
     ]
    }
   ],
   "source": [
    "x,y,z=\"naranja\",\"pera\",\"uva\"\n",
    "print(x,y,z)"
   ]
  },
  {
   "cell_type": "markdown",
   "id": "c24271b9",
   "metadata": {},
   "source": [
    "También puedes asignar el mismo valor a múltiples variables\n"
   ]
  },
  {
   "cell_type": "code",
   "execution_count": 7,
   "id": "4522a433",
   "metadata": {},
   "outputs": [],
   "source": [
    "x=y=z=\"naranja\""
   ]
  },
  {
   "cell_type": "markdown",
   "id": "feb6062a",
   "metadata": {},
   "source": [
    "Además puedes hacer **unpacking** de listas o tuplas"
   ]
  },
  {
   "cell_type": "code",
   "execution_count": 8,
   "id": "4ac80518",
   "metadata": {},
   "outputs": [],
   "source": [
    "frutas=[\"manzan\",\"pera\",\"uva\"]\n",
    "x,y,z=frutas"
   ]
  },
  {
   "cell_type": "markdown",
   "id": "a2e4b94a",
   "metadata": {},
   "source": [
    "# ***Alcance de las variables(scope)***\n",
    "- Una variable definida **fuera** de las funciones es **global** y accesible en todo el programa.\n",
    "- Una variable definida **dentro** de una función es **local** y sólo existe en ese contexto.\n",
    "- Puedes usar **global** dentro de una función para modificar una variable global:"
   ]
  },
  {
   "cell_type": "code",
   "execution_count": 9,
   "id": "6638e56a",
   "metadata": {},
   "outputs": [
    {
     "name": "stdout",
     "output_type": "stream",
     "text": [
      "fantástico\n"
     ]
    }
   ],
   "source": [
    "x = \"increíble\" #Aquí es una variable global porque está fuera de las funcioens\n",
    "\n",
    "def func():\n",
    "    global x #En principio como x está dentro de una función sería local pero con global se convierte en variable global\n",
    "    x = \"fantástico\"\n",
    "\n",
    "func()\n",
    "print(x)  # muestra 'fantástico' \n"
   ]
  },
  {
   "cell_type": "markdown",
   "id": "f0e1b7e1",
   "metadata": {},
   "source": [
    "# ***Concepto profundo***\n",
    "Python es un lenguaje de objetos: las variables son referencias a objetos. No contienen directamente el valor, sino que apuntan a él. Esto permite patrones como el paso por referencia a funciones usando alias de objetos"
   ]
  },
  {
   "cell_type": "code",
   "execution_count": 10,
   "id": "f82454af",
   "metadata": {},
   "outputs": [
    {
     "name": "stdout",
     "output_type": "stream",
     "text": [
      "2968676198144 2968676198144 2968676198144\n"
     ]
    }
   ],
   "source": [
    "a = [1, 2, 3]\n",
    "b = a\n",
    "c = b\n",
    "print(id(a), id(b), id(c))  # Los tres mostrarán el mismo ID de objeto\n"
   ]
  },
  {
   "cell_type": "markdown",
   "id": "0d77d5cb",
   "metadata": {},
   "source": [
    "El id() de Python devuelve la dirección (identificador único) del objeto en memoria. Si los tres coinciden, ¡significa que efectivamente apuntan al mismo objeto!"
   ]
  },
  {
   "cell_type": "markdown",
   "id": "e38b456d",
   "metadata": {},
   "source": []
  }
 ],
 "metadata": {
  "kernelspec": {
   "display_name": "Python 3",
   "language": "python",
   "name": "python3"
  },
  "language_info": {
   "codemirror_mode": {
    "name": "ipython",
    "version": 3
   },
   "file_extension": ".py",
   "mimetype": "text/x-python",
   "name": "python",
   "nbconvert_exporter": "python",
   "pygments_lexer": "ipython3",
   "version": "3.13.1"
  }
 },
 "nbformat": 4,
 "nbformat_minor": 5
}
